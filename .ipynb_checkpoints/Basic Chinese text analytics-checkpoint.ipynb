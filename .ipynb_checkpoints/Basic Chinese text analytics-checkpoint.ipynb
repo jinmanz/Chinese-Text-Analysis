{
 "cells": [
  {
   "cell_type": "markdown",
   "metadata": {},
   "source": [
    "# Basic Chinese Text Analytics\n",
    "\n",
    "This notebook shows the result of a basic text analysis on a Chinese fiction 'si shi tong tang'(四世同堂) by Laoshe. \n",
    "We'll look in particular at:\n",
    "    \n",
    "-  Word segmentation using 'jieba' library\n",
    "-  Term Frequency\n",
    "-  Keyword Extraction using 'jieba' library\n",
    "-  Word distribution through the text\n",
    "-  Segmentation text into equal parts\n",
    "-  Plotting correlations among 4-grams"
   ]
  },
  {
   "cell_type": "code",
   "execution_count": 100,
   "metadata": {
    "collapsed": true
   },
   "outputs": [],
   "source": [
    "import jieba"
   ]
  },
  {
   "cell_type": "code",
   "execution_count": 2,
   "metadata": {
    "collapsed": true
   },
   "outputs": [],
   "source": [
    "#Getting text \n",
    "f = open('sishitongtang_laoshe.txt','r')\n",
    "txt = f.read()"
   ]
  },
  {
   "cell_type": "markdown",
   "metadata": {
    "collapsed": true
   },
   "source": [
    "## Segmentation"
   ]
  },
  {
   "cell_type": "code",
   "execution_count": 7,
   "metadata": {},
   "outputs": [
    {
     "data": {
      "text/plain": [
       "1185922"
      ]
     },
     "execution_count": 7,
     "metadata": {},
     "output_type": "execute_result"
    }
   ],
   "source": [
    "# segment text with 'jieba', a Chinese segmentation tool\n",
    "seg_list = jieba.cut(txt,cut_all=False)\n",
    "seg_txt = \" \".join(seg_list)\n",
    "file = open('seg_txt.txt','w')\n",
    "# How many tokens in the text?\n",
    "file.write(seg_txt)"
   ]
  },
  {
   "cell_type": "code",
   "execution_count": 26,
   "metadata": {},
   "outputs": [
    {
     "name": "stdout",
     "output_type": "stream",
     "text": [
      "['序幕', '假若', '诸事', '都', '能', '“', '照计', '而行', '”', '，', '则', '此书', '的', '组织', '将', '是', '：', '1', '．', '段', '—', '—', '一百', '段', '。', '每段', '约', '有', '万字', '，', '所以', '2', '．', '字', '—', '—', '共', '百万', '字', '。', '3', '．', '部', '—', '—', '三部', '。', '第一部', '容纳', '三十四', '段', '，', '二部', '三部', '各', '三十三', '段', '，', '共百段', '。', '本来', '无须', '分部', '，', '因为', '故事', '是', '紧紧', '相连', '的', '一串', '，', '而', '不是', '可以', '分成', '三个', '独立', '单位', '的', '“', '三部曲', '”', '。', '不过', '，', '为了', '发表', '与', '出书', '的', '便利', '，', '就', '不能不', '在', '适当', '的', '地方', '画上']\n"
     ]
    }
   ],
   "source": [
    "# preview of the tokens we got\n",
    "tokens = seg_txt.split()\n",
    "print (tokens[:100])"
   ]
  },
  {
   "cell_type": "code",
   "execution_count": 25,
   "metadata": {},
   "outputs": [
    {
     "name": "stdout",
     "output_type": "stream",
     "text": [
      "['序幕', '诸事', '照计', '而行', '此书', '组织', '段', '一百', '段', '每段', '约', '万字', '字', '百万', '字', '部', '三部', '第一部', '容纳', '三十四', '段', '二部', '三部', '三十三', '段', '共百段', '本来', '无须', '分部', '故事', '紧紧', '相连', '一串', '分成', '三个', '独立', '单位', '三部曲', '发表', '出书', '便利', '地方', '画上', '条', '红线', '以清', '眉目', '勉强', '三个', '副标题', '曰', '惶惑', '偷生', '饥荒', '将来', '写', '完', '印成', '蓝带', '布套', '绣像', '三个', '副标题', '失踪', '随写', '随出', '写', '够', '十五万', '字', '即出', '一本', '三部', '各有', '两本', '全套', '共六本', '第二本', '也许', '第一本', '放在', '惶惑', '之下', '四世同堂', '第一部', '第二部', '第三部', '也许', '照方', '炮制', '全套', '设计', '石印', '刻', '木版', '此系', '话', '暂时', '多去', '操心']\n"
     ]
    }
   ],
   "source": [
    "# remove stopwords including punctuations\n",
    "# import stopwords\n",
    "stopwords = [line.strip() for line in open('stopwords.txt', 'r').readlines()]\n",
    "removeST_tokens = []\n",
    "for token in tokens:\n",
    "    if token not in stopwords:\n",
    "        if token != '\\t':\n",
    "            removeST_tokens.append(token)\n",
    "print (removeST_tokens[:100])"
   ]
  },
  {
   "cell_type": "code",
   "execution_count": 39,
   "metadata": {
    "collapsed": true
   },
   "outputs": [],
   "source": [
    "# save the tokens that removed stopwords for furture analytics \n",
    "import csv\n",
    "\n",
    "with open('removeST_tokens.csv', \"w\") as outfile:\n",
    "    for entries in removeST_tokens:\n",
    "        outfile.write(entries)\n",
    "        outfile.write(\"\\n\")"
   ]
  },
  {
   "cell_type": "markdown",
   "metadata": {},
   "source": [
    "## Term frequency\n"
   ]
  },
  {
   "cell_type": "code",
   "execution_count": 103,
   "metadata": {
    "collapsed": true
   },
   "outputs": [],
   "source": [
    "from collections import Counter\n",
    "# store term frequency in tf\n",
    "tf = Counter(removeST_tokens)\n"
   ]
  },
  {
   "cell_type": "code",
   "execution_count": 29,
   "metadata": {},
   "outputs": [
    {
     "data": {
      "text/plain": [
       "[('说', 1986),\n",
       " ('日本', 1918),\n",
       " ('老人', 1199),\n",
       " ('走', 1127),\n",
       " ('钱', 1083),\n",
       " ('瑞宣', 988),\n",
       " ('想', 958),\n",
       " ('北平', 820),\n",
       " ('一点', 744),\n",
       " ('里', 669),\n",
       " ('象', 637),\n",
       " ('事', 635),\n",
       " ('太太', 583),\n",
       " ('瑞丰', 571),\n",
       " ('中国', 538),\n",
       " ('心中', 511),\n",
       " ('李', 491),\n",
       " ('作', 480),\n",
       " ('祁', 472),\n",
       " ('吃', 459),\n",
       " ('东阳', 439),\n",
       " ('教', 437),\n",
       " ('高', 428),\n",
       " ('话', 424),\n",
       " ('中', 417),\n",
       " ('招弟', 411),\n",
       " ('死', 410),\n",
       " ('晓荷', 409),\n",
       " ('告诉', 402),\n",
       " ('问', 390),\n",
       " ('东西', 372),\n",
       " ('听', 366),\n",
       " ('四爷', 366),\n",
       " ('找', 364),\n",
       " ('崔', 359),\n",
       " ('长顺', 359),\n",
       " ('两个', 345),\n",
       " ('老二', 345),\n",
       " ('明白', 326),\n",
       " ('仿佛', 322),\n",
       " ('脸上', 321),\n",
       " ('笑', 317),\n",
       " ('大赤包', 303),\n",
       " ('点', 301),\n",
       " ('老三', 301),\n",
       " ('永远', 296),\n",
       " ('一会儿', 295),\n",
       " ('不肯', 291),\n",
       " ('办法', 285),\n",
       " ('小顺儿', 280)]"
      ]
     },
     "execution_count": 29,
     "metadata": {},
     "output_type": "execute_result"
    }
   ],
   "source": [
    "# Let's see the top 50 common term in this fition\n",
    "tf.most_common(50)"
   ]
  },
  {
   "cell_type": "markdown",
   "metadata": {},
   "source": [
    "## Keywords Extraction \n",
    "Next, we will import 'jieba.analyse' to extract keyword and has the weight ([TF-IDF](https://en.wikipedia.org/wiki/Tf%E2%80%93idf) ) of each word considered."
   ]
  },
  {
   "cell_type": "code",
   "execution_count": 30,
   "metadata": {},
   "outputs": [
    {
     "name": "stdout",
     "output_type": "stream",
     "text": [
      "瑞宣 0.06006534900079434\n",
      "可是 0.05545933143535209\n",
      "日本 0.04882900911830819\n",
      "他们 0.040968746836118355\n",
      "老人 0.03882534717876475\n",
      "瑞丰 0.03471388084964936\n",
      "自己 0.0318727329746475\n",
      "北平 0.030606590327477992\n",
      "没有 0.029032187684588158\n",
      "先生 0.02809739185312127\n",
      "什么 0.026700841606200128\n",
      "晓荷 0.02486510904992397\n",
      "假若 0.022873227000227418\n",
      "招弟 0.02145092123867454\n",
      "东阳 0.020890308123955276\n",
      "知道 0.020513118668538097\n",
      "太太 0.02023683528200035\n",
      "似的 0.018637439765173083\n",
      "大赤包 0.018420850958745634\n",
      "一点 0.018401272719643612\n",
      "四爷 0.01834760429714678\n",
      "长顺 0.01796494238878652\n",
      "小顺儿 0.017022568542735237\n",
      "韵梅 0.016657799216819483\n",
      "老二 0.01594545485085511\n",
      "那么 0.01537169989815186\n",
      "觉得 0.015249887187529863\n",
      "不能 0.01497521700897066\n",
      "一个 0.014729595554078954\n",
      "老三 0.014669067239641986\n",
      "起来 0.014423847314292543\n",
      "大家 0.014244802547359148\n",
      "咱们 0.014201925265913467\n",
      "天佑 0.01405618015350817\n",
      "出来 0.01382031249771716\n",
      "心中 0.01361169794011432\n",
      "好象 0.013211143673163686\n",
      "时候 0.012998778559558992\n",
      "因为 0.012846700113379407\n",
      "冠晓荷 0.012827721294704055\n",
      "三爷 0.012650712346922563\n",
      "瑞全 0.012645336631746176\n",
      "桐芳 0.0124629519687883\n",
      "不是 0.01212255114719565\n",
      "不敢 0.011767727791986005\n",
      "孙七 0.011551028653998912\n",
      "看见 0.011404644372739256\n",
      "冠家 0.011186259328083157\n",
      "应当 0.01107246497182612\n",
      "有点 0.010477039698805438\n"
     ]
    }
   ],
   "source": [
    "import jieba.analyse\n",
    "\n",
    "# 第一个参数：待提取关键词的文本 original text\n",
    "# 第二个参数：返回关键词的数量，重要性从高到低排序 the number of words we want\n",
    "# 第三个参数：是否同时返回每个关键词的权重 tf-idf weight\n",
    "# 第四个参数：词性过滤，为空表示不过滤，若提供则仅返回符合词性要求的关键词 filter of part of speech\n",
    "\n",
    "keywords = jieba.analyse.extract_tags(txt, topK=50, withWeight=True, allowPOS=())\n",
    "# 访问提取结果\n",
    "for item in keywords:\n",
    "    # 分别为关键词和相应的权重\n",
    "    print (item[0], item[1])"
   ]
  },
  {
   "cell_type": "code",
   "execution_count": 101,
   "metadata": {},
   "outputs": [
    {
     "name": "stdout",
     "output_type": "stream",
     "text": [
      "老人 0.14396588966037752\n",
      "先生 0.10418621620164847\n",
      "赤包 0.10189426771719937\n",
      "招弟 0.07954084598242914\n",
      "太太 0.07503896827681601\n",
      "四爷 0.06803362668241669\n",
      "韵梅 0.05996432569198016\n",
      "大家 0.05282027903896306\n",
      "心中 0.05047270265772887\n",
      "好象 0.04898743193668949\n",
      "时候 0.048199973878113554\n",
      "三爷 0.04690933089346231\n",
      "冠家 0.04621310814607493\n",
      "巡长 0.0455368187585714\n",
      "有点 0.03884926860539685\n",
      "妞子 0.037872205700197996\n",
      "菊子 0.035617907741852875\n",
      "脸上 0.0345918656017667\n",
      "空山 0.03316004425227508\n",
      "野求 0.0322364608043352\n"
     ]
    }
   ],
   "source": [
    "# Let's set the part of speech argument as noun to see the top 20 nouns\n",
    "keyword_ns = jieba.analyse.extract_tags(txt, topK=20, withWeight=True, allowPOS=('ns'))\n",
    "# 访问提取结果\n",
    "keyword_ns20 = []\n",
    "for item in keyword_ns:\n",
    "    # 分别为关键词和相应的权重\n",
    "    keyword_ns20.append(item[0])\n",
    "    print (item[0], item[1])"
   ]
  },
  {
   "cell_type": "code",
   "execution_count": 102,
   "metadata": {},
   "outputs": [
    {
     "name": "stdout",
     "output_type": "stream",
     "text": [
      "没有 0.12705402306734692\n",
      "知道 0.089771886321857\n",
      "觉得 0.06673832297961543\n",
      "不能 0.0655362795242027\n",
      "起来 0.06312331159125364\n",
      "出来 0.06048205260863063\n",
      "看见 0.04991032590968375\n",
      "应当 0.04845660393307502\n",
      "告诉 0.04491302685789375\n",
      "不肯 0.03906536088213318\n",
      "晓得 0.0389130643031291\n",
      "出去 0.035863859070014464\n",
      "不会 0.034364551951705874\n",
      "富善 0.031660858007368745\n",
      "愿意 0.03139116539862618\n",
      "变成 0.029683276231149046\n",
      "感到 0.02927678456346115\n",
      "看看 0.028898731758698507\n",
      "决定 0.028101964694379183\n",
      "喜欢 0.027793979041269894\n"
     ]
    }
   ],
   "source": [
    "# Let's set the part of speech argument as verb to see the top 20 verbs\n",
    "keyword_v = jieba.analyse.extract_tags(txt, topK=20, withWeight=True, allowPOS=('v'))\n",
    "# 访问提取结果\n",
    "keyword_v20 = []\n",
    "for item in keyword_v:\n",
    "    # 分别为关键词和相应的权重\n",
    "    keyword_v20.append(item[0])\n",
    "    print (item[0], item[1])"
   ]
  },
  {
   "cell_type": "markdown",
   "metadata": {},
   "source": [
    "## Word Distribution\n",
    "Next we are going to produce a plot showing the distribution of the keywords (with weight) through the text."
   ]
  },
  {
   "cell_type": "code",
   "execution_count": 78,
   "metadata": {},
   "outputs": [
    {
     "name": "stdout",
     "output_type": "stream",
     "text": [
      "['\\n\\n', '\\n序', '序幕', '幕\\n', '\\n假', '假若', '若诸', '诸事', '事都', '都能']\n"
     ]
    }
   ],
   "source": [
    "# here we will generate bigrams used as the big context for word distribution.\n",
    "# the reason that we do not use the tokens generated by jieba is that \n",
    "#the tokens contain not only bigrams but also trigrams, while the keywords generated by 'jieba.analyse.extract_tags'\n",
    "# only contain bigrams.\n",
    "import nltk\n",
    "bigram = list(nltk.bigrams(txt))\n",
    "\n",
    "bigram_list = []\n",
    "for gram in bigram:\n",
    "    bigram_list.append(''.join(gram))\n",
    "    \n",
    "#preview the first 10 bigrams\n",
    "print(bigram_list[:10])\n"
   ]
  },
  {
   "cell_type": "code",
   "execution_count": 79,
   "metadata": {
    "collapsed": true
   },
   "outputs": [],
   "source": [
    "# add this code to set font for Chinese characters in the plot\n",
    "import matplotlib\n",
    "matplotlib.rcParams['font.sans-serif'] = 'SimHei'"
   ]
  },
  {
   "cell_type": "code",
   "execution_count": 80,
   "metadata": {},
   "outputs": [
    {
     "data": {
      "image/png": "[encoded data removed]",
      "text/plain": [
       "<matplotlib.figure.Figure at 0x1314e5f98>"
      ]
     },
     "metadata": {},
     "output_type": "display_data"
    }
   ],
   "source": [
    "import nltk\n",
    "\n",
    "nltk.Text(bigram_list).dispersion_plot(keywords50[:10])"
   ]
  },
  {
   "cell_type": "markdown",
   "metadata": {},
   "source": [
    "## Repeating Phrases\n",
    "This part we will use n-grams to have a quick look of the distribution of 4-grams, which will also provide a general idea of how the author uses Chinese idiom with 4 characters."
   ]
  },
  {
   "cell_type": "code",
   "execution_count": 82,
   "metadata": {},
   "outputs": [
    {
     "name": "stdout",
     "output_type": "stream",
     "text": [
      "[('天佑太太', 135), ('小顺儿妈', 74), ('马老太太', 69), ('无可如何', 53), ('小顺儿妞', 49), ('不好意思', 48), ('日本鬼子', 48), ('顺儿妞子', 46), ('日本日本', 42), ('低下头去', 38), ('小文夫妇', 35), ('钱少奶奶', 35), ('楞一会儿', 33), ('一天到晚', 33), ('逃出北平', 29), ('四世同堂', 28), ('离开北平', 28), ('北平北平', 28), ('呆呆看着', 27), ('北平日本', 26), ('天安门前', 25), ('日本人作', 25), ('两个孩子', 25), ('莫名其妙', 23), ('迷迷糊糊', 22), ('日本中国', 21), ('回到家中', 21), ('中国中国', 20), ('老人天佑', 20), ('瑞宣瑞宣', 20), ('心中难过', 20), ('日本人来', 20), ('抬起头来', 19), ('日本人要', 19), ('日本占据', 19), ('无可奈何', 19), ('中国日本', 19), ('小干脸上', 19), ('明白日本', 18), ('一会儿想', 18), ('祁老人天', 18), ('日本军人', 18), ('瑞丰太太', 18), ('南京陷落', 18), ('叹一口气', 17), ('瑞丰夫妇', 17), ('无论如何', 17), ('瑞宣心中', 17), ('无论怎样', 17), ('告诉日本', 17)]\n"
     ]
    }
   ],
   "source": [
    "from nltk import ngrams\n",
    "n = 4\n",
    "fourgram = ngrams(''.join(removeST_tokens),n)\n",
    "fourgram_list = []\n",
    "for gram in fourgram:\n",
    "    fourgram_list.append(''.join(gram))\n",
    "fourgram_count = Counter(fourgram_list)\n",
    "fourgram_top50 = fourgram_count.most_common(50)\n",
    "print (fourgram_top50)"
   ]
  },
  {
   "cell_type": "code",
   "execution_count": 87,
   "metadata": {},
   "outputs": [
    {
     "data": {
      "image/png": "[encoded data removed]",
      "text/plain": [
       "<matplotlib.figure.Figure at 0x125d36e10>"
      ]
     },
     "metadata": {},
     "output_type": "display_data"
    }
   ],
   "source": [
    "# I extract the following four-grams to see their distribution through the fiction\n",
    "fourgram_text = nltk.Text(fourgram_list)\n",
    "fourgram_text.dispersion_plot(['天佑太太','莫名其妙','无可奈何','日本日本','北平北平','四世同堂'])"
   ]
  },
  {
   "cell_type": "markdown",
   "metadata": {},
   "source": [
    "## Segmentation (into equal parts)\n"
   ]
  },
  {
   "cell_type": "code",
   "execution_count": 88,
   "metadata": {},
   "outputs": [
    {
     "data": {
      "text/plain": [
       "[34422, 34422, 34422, 34422, 34421, 34421, 34421, 34421, 34421, 34421]"
      ]
     },
     "execution_count": 88,
     "metadata": {},
     "output_type": "execute_result"
    }
   ],
   "source": [
    "# segment the txt into 10 equal bins\n",
    "import numpy as np\n",
    "fourgrams_Segments = np.array_split(fourgram_list, 10)\n",
    "[len(segment) for segment in fourgrams_Segments]  # how many 4grams in each bin?"
   ]
  },
  {
   "cell_type": "code",
   "execution_count": 90,
   "metadata": {},
   "outputs": [
    {
     "data": {
      "text/plain": [
       "[2, 6, 6, 11, 5, 26, 8, 20, 22, 29]"
      ]
     },
     "execution_count": 90,
     "metadata": {},
     "output_type": "execute_result"
    }
   ],
   "source": [
    "tianyoutaitai_Counts = [list(segment).count((\"天佑太太\")) for segment in fourgrams_Segments]\n",
    "tianyoutaitai_Counts # counts per segment"
   ]
  },
  {
   "cell_type": "code",
   "execution_count": 91,
   "metadata": {},
   "outputs": [
    {
     "data": {
      "image/png": "[encoded data removed]",
      "text/plain": [
       "<matplotlib.figure.Figure at 0x125d286d8>"
      ]
     },
     "metadata": {},
     "output_type": "display_data"
    },
    {
     "data": {
      "image/png": "[encoded data removed]",
      "text/plain": [
       "<matplotlib.figure.Figure at 0x126535e80>"
      ]
     },
     "metadata": {},
     "output_type": "display_data"
    }
   ],
   "source": [
    "import matplotlib.pyplot as plt\n",
    "line = plt.plot(tianyoutaitai_Counts, label=\"天佑太太\")\n",
    "plt.ylim(0) # make sure to set y axis to start at zero\n",
    "plt.legend(handles=line) # we're going to add a legend\n",
    "plt.show() # make sure to flush out the line chart\n",
    "fourgram_text.dispersion_plot([(\"天佑太太\")]) # for comparison sake"
   ]
  },
  {
   "cell_type": "markdown",
   "metadata": {},
   "source": [
    "## Correlations\n",
    "In this part, we will have a look at the correlations among the 4-grams."
   ]
  },
  {
   "cell_type": "code",
   "execution_count": 94,
   "metadata": {},
   "outputs": [
    {
     "name": "stdout",
     "output_type": "stream",
     "text": [
      "['天佑太太', '小顺儿妈', '马老太太', '无可如何', '小顺儿妞', '不好意思', '日本鬼子', '顺儿妞子', '日本日本', '低下头去', '小文夫妇', '钱少奶奶', '楞一会儿', '一天到晚', '逃出北平', '四世同堂', '离开北平', '北平北平', '呆呆看着', '北平日本', '天安门前', '日本人作', '两个孩子', '莫名其妙', '迷迷糊糊', '日本中国', '回到家中', '中国中国', '老人天佑', '瑞宣瑞宣', '心中难过', '日本人来', '抬起头来', '日本人要', '日本占据', '无可奈何', '中国日本', '小干脸上', '明白日本', '一会儿想', '祁老人天', '日本军人', '瑞丰太太', '南京陷落', '叹一口气', '瑞丰夫妇', '无论如何', '瑞宣心中', '无论怎样', '告诉日本']\n"
     ]
    }
   ],
   "source": [
    "fourgramsMostFrequent = [\"\".join(words) for words, count in fourgram_top50] # get a list of top \n",
    "print(fourgramsMostFrequent)"
   ]
  },
  {
   "cell_type": "code",
   "execution_count": 98,
   "metadata": {},
   "outputs": [
    {
     "name": "stdout",
     "output_type": "stream",
     "text": [
      "[('日本日本', 1.0), ('四世同堂', 0.7774060840992914), ('离开北平', 0.7088735822542532), ('中国日本', 0.6713438160732881), ('告诉日本', 0.6683124998908619), ('中国中国', 0.6320623710592895), ('北平日本', 0.5872915098718589), ('日本中国', 0.5866685996979554), ('日本人来', 0.49410588440130937), ('日本人作', 0.4740454631399771), ('抬起头来', 0.44096797071462257), ('北平北平', 0.4352621336620037), ('钱少奶奶', 0.3452752024080558), ('日本占据', 0.2980769230769231), ('逃出北平', 0.28517591273601506), ('一天到晚', 0.27303059324151746), ('莫名其妙', 0.24759378423606912), ('南京陷落', 0.17632555847330242), ('日本人要', 0.1663526157626755), ('低下头去', 0.16553054799293268), ('天佑太太', 0.14116167834507487), ('日本鬼子', 0.07936479454068582), ('无可奈何', 0.07850686719788597), ('叹一口气', 0.02787353048426868), ('明白日本', 0.021437323142813623), ('日本军人', 0.013638618139749549), ('瑞宣瑞宣', 0.0), ('马老太太', -0.028697894246445546), ('小顺儿妈', -0.03412412677382339), ('两个孩子', -0.037603552349761746), ('瑞丰夫妇', -0.11184210526315792), ('天安门前', -0.11546878146166868), ('瑞宣心中', -0.11821656093586513), ('无论怎样', -0.13688328311017658), ('小顺儿妞', -0.14549449957018462), ('小文夫妇', -0.1600569427805283), ('不好意思', -0.1727558297701606), ('老人天佑', -0.18749999999999997), ('迷迷糊糊', -0.19611613513818407), ('顺儿妞子', -0.20496126977999185), ('心中难过', -0.2651650429449553), ('祁老人天', -0.3249668418098407), ('无论如何', -0.32496684180984076), ('一会儿想', -0.37389020176881266), ('无可如何', -0.4153693788141624), ('瑞丰太太', -0.46845228641010717), ('呆呆看着', -0.4992213854606439), ('小干脸上', -0.5521128620848047), ('回到家中', -0.562430272340474), ('楞一会儿', -0.601665049630403)]\n"
     ]
    },
    {
     "data": {
      "image/png": "[encoded data removed]",
      "text/plain": [
       "<matplotlib.figure.Figure at 0x125fc5e10>"
      ]
     },
     "metadata": {},
     "output_type": "display_data"
    }
   ],
   "source": [
    "fourgramsSegmentsCounts = {} # build a dictionary of counts for each search item\n",
    "for search in fourgramsMostFrequent:\n",
    "    # count the target search entry in each segment\n",
    "    fourgramsSegmentsCounts[search] = [list(segment).count(search) for segment in fourgrams_Segments]\n",
    "\n",
    "ribenribenCorrelations = {} # build a dictionary of correlation values for \"日本日本\"\n",
    "for ngram, counts in fourgramsSegmentsCounts.items():\n",
    "    tianyoutaitaiCorrelations[ngram] = np.corrcoef(fourgramsSegmentsCounts[\"日本日本\"], counts)[0,1]\n",
    "\n",
    "ribenribenCorrelationFreqs = nltk.FreqDist(ribenribenCorrelations)\n",
    "print(ribenribenCorrelationFreqs.most_common())\n",
    "plt.figure(figsize=(20,10))\n",
    "ribenribenCorrelationFreqs.plot()"
   ]
  },
  {
   "cell_type": "markdown",
   "metadata": {},
   "source": [
    "This figure suggests that \"日本日本\" is correlated with '四世同堂'(0.77),'离开北平'(0.70), and '中国日本'(0.67). Then followed by a bunch of weak correlations, and then some slightly stronger negative correlations for things like \"楞一会儿\"（-0.60）."
   ]
  },
  {
   "cell_type": "code",
   "execution_count": null,
   "metadata": {
    "collapsed": true
   },
   "outputs": [],
   "source": []
  }
 ],
 "metadata": {
  "kernelspec": {
   "display_name": "Python 3",
   "language": "python",
   "name": "python3"
  },
  "language_info": {
   "codemirror_mode": {
    "name": "ipython",
    "version": 3
   },
   "file_extension": ".py",
   "mimetype": "text/x-python",
   "name": "python",
   "nbconvert_exporter": "python",
   "pygments_lexer": "ipython3",
   "version": "3.6.4"
  }
 },
 "nbformat": 4,
 "nbformat_minor": 2
}
