{
 "cells": [
  {
   "cell_type": "markdown",
   "metadata": {},
   "source": [
    "# Comparing Chinese Text\n",
    "In this notebook, I compared nine Chinese fiction of three authors (Please see the following code). The key idea is to consider the nine fictions as nine [bags of words](https://en.wikipedia.org/wiki/Bag-of-words_model) (ignore the order of word), and compare the nine fictions throught the keywords used in each fiction. "
   ]
  },
  {
   "cell_type": "code",
   "execution_count": 12,
   "metadata": {
    "collapsed": true
   },
   "outputs": [],
   "source": [
    "import os\n",
    "import numpy as np\n",
    "import sklearn.feature_extraction.text as text\n",
    "\n",
    "data_dir = 'Fictions/'\n",
    "\n",
    "filenames = np.array(sorted(os.listdir(data_dir)))\n",
    "\n",
    "filenames_with_path = [os.path.join(data_dir, fn) for fn in filenames] # join the path with filenames"
   ]
  },
  {
   "cell_type": "code",
   "execution_count": 16,
   "metadata": {},
   "outputs": [
    {
     "data": {
      "text/plain": [
       "['Fictions/JiaPingwa_happyDreams.txt',\n",
       " 'Fictions/JiaPingwa_oldFurnace.txt',\n",
       " 'Fictions/JiaPingwa_ruinedCity.txt',\n",
       " 'Fictions/MoYan_Frog.txt',\n",
       " 'Fictions/MoYan_bigBreast&wideHips.txt',\n",
       " 'Fictions/MoYan_redSorghum.txt',\n",
       " 'Fictions/WangShuo_dangerousAnimals.txt',\n",
       " 'Fictions/WangShuo_stewardess.txt',\n",
       " 'Fictions/WangShuo_theTroubleShooter.txt']"
      ]
     },
     "execution_count": 16,
     "metadata": {},
     "output_type": "execute_result"
    }
   ],
   "source": [
    "filenames_with_path[-9:]"
   ]
  },
  {
   "cell_type": "markdown",
   "metadata": {},
   "source": [
    "## Creating a document-term matrix\n",
    "- A document-term matrix or term-document matrix is a mathematical matrix that describes the frequency of terms that occur in a collection of documents. \n",
    "- In a document-term matrix, rows correspond to documents in the collection and columns correspond to terms. \n",
    "- The purpose is that reducing a book to a list of word frequencies retains useful information. This is based on the idea \"bag of word\"."
   ]
  },
  {
   "cell_type": "code",
   "execution_count": 53,
   "metadata": {
    "collapsed": true
   },
   "outputs": [],
   "source": [
    "vectorizer = text.CountVectorizer(input='filename')\n",
    "dtm = vectorizer.fit_transform(filenames_with_path[-9:])"
   ]
  },
  {
   "cell_type": "code",
   "execution_count": 56,
   "metadata": {
    "collapsed": true
   },
   "outputs": [],
   "source": [
    "# Now we use the TfidfVectorizer class to create a document-term matrix.\n",
    "from sklearn.feature_extraction.text import TfidfVectorizer\n",
    "vectorizer = TfidfVectorizer(input='filename')\n",
    "dtm = vectorizer.fit_transform(filenames_with_path[-9:])"
   ]
  },
  {
   "cell_type": "code",
   "execution_count": 57,
   "metadata": {},
   "outputs": [
    {
     "data": {
      "text/plain": [
       "array(['0k', '10', '101', ..., 'ｗｗｗ', 'ｘt', 'ｘ年ｘ月ｘ日于日书摊'], dtype='<U108')"
      ]
     },
     "execution_count": 57,
     "metadata": {},
     "output_type": "execute_result"
    }
   ],
   "source": [
    "\n",
    "vocab = np.array(vectorizer.get_feature_names())\n",
    "# print the vocabulary in the bag\n",
    "vocab"
   ]
  },
  {
   "cell_type": "code",
   "execution_count": 58,
   "metadata": {},
   "outputs": [
    {
     "name": "stdout",
     "output_type": "stream",
     "text": [
      "[[ 44.90131178]\n",
      " [ 38.16240395]\n",
      " [ 46.37777752]\n",
      " [ 71.07047327]\n",
      " [156.66807132]\n",
      " [ 64.62463298]\n",
      " [ 66.23507285]\n",
      " [ 54.99439158]\n",
      " [ 53.82426738]]\n"
     ]
    }
   ],
   "source": [
    "# sum over rows to calculate lengths(the numbers in a row are word frequency of a document,so sum the numbers to get the word count of each document)\n",
    "lengths = np.sum(dtm, axis=1)\n",
    "print (lengths)\n"
   ]
  },
  {
   "cell_type": "markdown",
   "metadata": {},
   "source": [
    "## Comparing text\n",
    "Arranging our texts in a document-term matrix make it available for calculating a measure of similarity between texts. Since each row of the document-term matrix is a sequence of a novel’s word frequencies, it is possible to put mathematical notions of similarity (or distance) between sequences of numbers in service of calculating the similarity (or distnace) between any two novels. \n",
    "\n",
    "### Measure of distance\n",
    "\n",
    "#### Multidimensional scaling\n",
    "\n",
    "Multidimensional scaling (MDS) seeks a low-dimensional representation of the data in which the distances respect well the distances in the original high-dimensional space. (Dimensionality reduction)\n",
    "\n",
    "#### Cosine similarity\n",
    "\n",
    "Cosine similarity is a measure of similarity between two non-zero vectors of an inner product space that measures the cosine of the angle between them. It is thus a judgment of orientation and not magnitude: two vectors with the same orientation have a cosine similarity of 1, two vectors at 90° have a similarity of 0, and two vectors diametrically opposed have a similarity of -1, independent of their magnitude.\n",
    "Here we vectorized the term in each fiction to apply Cosine similarity to culculate the similarity between the term vectors. "
   ]
  },
  {
   "cell_type": "code",
   "execution_count": 65,
   "metadata": {
    "collapsed": true
   },
   "outputs": [],
   "source": [
    "from sklearn.manifold import MDS\n",
    "from sklearn.metrics.pairwise import cosine_similarity"
   ]
  },
  {
   "cell_type": "markdown",
   "metadata": {},
   "source": [
    "Keep in mind that cosine similarity is a measure of similarity (rather than distance) that ranges between 0 and 1 (as it is the cosine of the angle between the two vectors). In order to get a measure of distance (or dissimilarity), we need to “flip” the measure so that a larger angle receives a larger value. The distance measure derived from cosine similarity is therefore one minus the cosine similarity between two vectors."
   ]
  },
  {
   "cell_type": "code",
   "execution_count": 66,
   "metadata": {},
   "outputs": [
    {
     "data": {
      "text/plain": [
       "array([[-0.  ,  0.98,  0.99,  0.86,  0.93,  1.  ,  0.99,  0.96,  1.  ],\n",
       "       [ 0.98,  0.  ,  1.  ,  0.99,  0.99,  1.  ,  1.  ,  1.  ,  1.  ],\n",
       "       [ 0.99,  1.  ,  0.  ,  1.  ,  0.99,  1.  ,  1.  ,  1.  ,  1.  ],\n",
       "       [ 0.86,  0.99,  1.  ,  0.  ,  0.91,  0.98,  0.99,  0.98,  1.  ],\n",
       "       [ 0.93,  0.99,  0.99,  0.91, -0.  ,  0.97,  0.99,  0.98,  0.99],\n",
       "       [ 1.  ,  1.  ,  1.  ,  0.98,  0.97, -0.  ,  1.  ,  0.99,  1.  ],\n",
       "       [ 0.99,  1.  ,  1.  ,  0.99,  0.99,  1.  ,  0.  ,  0.99,  0.99],\n",
       "       [ 0.96,  1.  ,  1.  ,  0.98,  0.98,  0.99,  0.99,  0.  ,  0.99],\n",
       "       [ 1.  ,  1.  ,  1.  ,  1.  ,  0.99,  1.  ,  0.99,  0.99,  0.  ]])"
      ]
     },
     "execution_count": 66,
     "metadata": {},
     "output_type": "execute_result"
    }
   ],
   "source": [
    "dist = 1 - cosine_similarity(dtm)\n",
    "np.round(dist, 2)"
   ]
  },
  {
   "cell_type": "code",
   "execution_count": 67,
   "metadata": {},
   "outputs": [
    {
     "data": {
      "text/plain": [
       "0.996187662073865"
      ]
     },
     "execution_count": 67,
     "metadata": {},
     "output_type": "execute_result"
    }
   ],
   "source": [
    "# lets take a look at the distance between \"MoYan_Frog\" and \"WangShuo_theTroubleShooter\"\n",
    "dist[3, 8]"
   ]
  },
  {
   "cell_type": "code",
   "execution_count": 69,
   "metadata": {},
   "outputs": [
    {
     "data": {
      "text/plain": [
       "0.8577077820345105"
      ]
     },
     "execution_count": 69,
     "metadata": {},
     "output_type": "execute_result"
    }
   ],
   "source": [
    "# distance between \"MoYan_Frog\" and \"JiaPingwa_happyDreams\"\n",
    "dist[0, 3]"
   ]
  },
  {
   "cell_type": "markdown",
   "metadata": {},
   "source": [
    "Distance (0.996187662073865) between \"MoYan_Frog\" and \"WangShuo_theTroubleShooter\" is larger than distance (0.8577077820345105) between \"MoYan_Frog\" and \"JiaPingwa_happyDreams\""
   ]
  },
  {
   "cell_type": "markdown",
   "metadata": {},
   "source": [
    "### Visualizing Distance\n",
    "It is often desirable to visualize the pairwise distances between our texts. A general approach to visualizing distances is to assign a point in a plane to each text, making sure that the distance between points is proportional to the pairwise distances we calculated. This kind of visualization is common enough that it has a name, “multidimensional scaling” (MDS) and family of functions in scikit-learn."
   ]
  },
  {
   "cell_type": "code",
   "execution_count": 47,
   "metadata": {
    "collapsed": true
   },
   "outputs": [],
   "source": [
    "# two components as we're plotting points in a two-dimensional plane\n",
    "# \"precomputed\" because we provide a distance matrix\n",
    "# we will also specify `random_state` so the plot is reproducible.\n",
    "mds = MDS(n_components=2, dissimilarity=\"precomputed\", random_state=1)\n",
    "pos = mds.fit_transform(dist)  # shape (n_components, n_samples)\n"
   ]
  },
  {
   "cell_type": "code",
   "execution_count": 48,
   "metadata": {
    "collapsed": true
   },
   "outputs": [],
   "source": [
    "# create very short names for plotting\n",
    "# filenames have form: JiaPingwa_ruinedCity.txt\n",
    "authors = [] \n",
    "names = []\n",
    "for fn in filenames[-9:]:\n",
    "    author = fn.split('_')[0]\n",
    "    authors.append(author)\n",
    "    names.append(fn)"
   ]
  },
  {
   "cell_type": "code",
   "execution_count": 49,
   "metadata": {},
   "outputs": [
    {
     "name": "stdout",
     "output_type": "stream",
     "text": [
      "['JiaPingwa', 'MoYan', 'WangShuo']\n"
     ]
    }
   ],
   "source": [
    "# Visualize distances\n",
    "import matplotlib.pyplot as plt\n",
    "\n",
    "xs, ys = pos[:, 0], pos[:, 1]\n",
    "authors_unique = sorted(set(authors)) # get unique authors\n",
    "print (authors_unique)"
   ]
  },
  {
   "cell_type": "code",
   "execution_count": 50,
   "metadata": {},
   "outputs": [
    {
     "data": {
      "image/png": "[encoded data removed]",
      "text/plain": [
       "<matplotlib.figure.Figure at 0x113baaac8>"
      ]
     },
     "metadata": {},
     "output_type": "display_data"
    }
   ],
   "source": [
    "\n",
    "colors = [authors_unique.index(a) for a in authors] # get a unique color for texts of each author  \n",
    "plt.figure(figsize=(15, 8)) \n",
    "plt.scatter(xs, ys,c=colors,cmap='viridis')\n",
    "\n",
    "for x, y, name in zip(xs, ys, names):\n",
    "    plt.text(x, y, name, alpha=0.5, fontsize=15)\n",
    "plt.tight_layout()\n",
    "plt.show()"
   ]
  },
  {
   "cell_type": "markdown",
   "metadata": {},
   "source": [
    "From the figure above, we can see that Wangshuo's fictions (yellow spots) are tend to be clustered as a group. While the distance between Wangshuo's and Moyan's RedSorghum and Frog are large. Wangshuo's preference on using Beijing dialect in his works may also be a reason for its being easily distinguished from other works."
   ]
  },
  {
   "cell_type": "code",
   "execution_count": null,
   "metadata": {
    "collapsed": true
   },
   "outputs": [],
   "source": []
  }
 ],
 "metadata": {
  "kernelspec": {
   "display_name": "Python 3",
   "language": "python",
   "name": "python3"
  },
  "language_info": {
   "codemirror_mode": {
    "name": "ipython",
    "version": 3
   },
   "file_extension": ".py",
   "mimetype": "text/x-python",
   "name": "python",
   "nbconvert_exporter": "python",
   "pygments_lexer": "ipython3",
   "version": "3.6.4"
  }
 },
 "nbformat": 4,
 "nbformat_minor": 2
}
